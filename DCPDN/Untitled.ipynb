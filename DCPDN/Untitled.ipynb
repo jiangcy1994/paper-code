{
 "cells": [
  {
   "cell_type": "code",
   "execution_count": 1,
   "metadata": {},
   "outputs": [],
   "source": [
    "from DCPDN import DCPDN"
   ]
  },
  {
   "cell_type": "code",
   "execution_count": 2,
   "metadata": {},
   "outputs": [],
   "source": [
    "model = DCPDN()"
   ]
  },
  {
   "cell_type": "code",
   "execution_count": 4,
   "metadata": {},
   "outputs": [],
   "source": [
    "from keras.utils import plot_model"
   ]
  },
  {
   "cell_type": "code",
   "execution_count": 5,
   "metadata": {},
   "outputs": [],
   "source": [
    "plot_model(model.discriminator, 'discriminator.png')"
   ]
  },
  {
   "cell_type": "code",
   "execution_count": 6,
   "metadata": {},
   "outputs": [],
   "source": [
    "plot_model(model.generator, 'generator.png')"
   ]
  },
  {
   "cell_type": "code",
   "execution_count": null,
   "metadata": {},
   "outputs": [],
   "source": []
  },
  {
   "cell_type": "code",
   "execution_count": 3,
   "metadata": {},
   "outputs": [
    {
     "name": "stdout",
     "output_type": "stream",
     "text": [
      "__________________________________________________________________________________________________\n",
      "Layer (type)                    Output Shape         Param #     Connected to                     \n",
      "==================================================================================================\n",
      "input_6 (InputLayer)            (None, 256, 256, 3)  0                                            \n",
      "__________________________________________________________________________________________________\n",
      "input_7 (InputLayer)            (None, 256, 256, 3)  0                                            \n",
      "__________________________________________________________________________________________________\n",
      "concatenate_1 (Concatenate)     (None, 256, 256, 6)  0           input_6[0][0]                    \n",
      "                                                                 input_7[0][0]                    \n",
      "__________________________________________________________________________________________________\n",
      "layer1 (Conv2D)                 (None, 128, 128, 64) 6144        concatenate_1[0][0]              \n",
      "__________________________________________________________________________________________________\n",
      "layer2.leakyrelu (LeakyReLU)    (None, 128, 128, 64) 0           layer1[0][0]                     \n",
      "__________________________________________________________________________________________________\n",
      "layer2.conv (Conv2D)            (None, 64, 64, 128)  131072      layer2.leakyrelu[0][0]           \n",
      "__________________________________________________________________________________________________\n",
      "layer2.bn (BatchNormalization)  (None, 64, 64, 128)  512         layer2.conv[0][0]                \n",
      "__________________________________________________________________________________________________\n",
      "layer3.leakyrelu (LeakyReLU)    (None, 64, 64, 128)  0           layer2.bn[0][0]                  \n",
      "__________________________________________________________________________________________________\n",
      "layer3.conv (Conv2D)            (None, 32, 32, 256)  524288      layer3.leakyrelu[0][0]           \n",
      "__________________________________________________________________________________________________\n",
      "layer3.bn (BatchNormalization)  (None, 32, 32, 256)  1024        layer3.conv[0][0]                \n",
      "__________________________________________________________________________________________________\n",
      "layer4.leakyrelu (LeakyReLU)    (None, 32, 32, 256)  0           layer3.bn[0][0]                  \n",
      "__________________________________________________________________________________________________\n",
      "layer4.conv (Conv2D)            (None, 29, 29, 512)  2097152     layer4.leakyrelu[0][0]           \n",
      "__________________________________________________________________________________________________\n",
      "layer4.zeropad (ZeroPadding2D)  (None, 31, 31, 512)  0           layer4.conv[0][0]                \n",
      "__________________________________________________________________________________________________\n",
      "layer4.bn (BatchNormalization)  (None, 31, 31, 512)  2048        layer4.zeropad[0][0]             \n",
      "__________________________________________________________________________________________________\n",
      "layer5.leakyrelu (LeakyReLU)    (None, 31, 31, 512)  0           layer4.bn[0][0]                  \n",
      "__________________________________________________________________________________________________\n",
      "layer5.conv (Conv2D)            (None, 28, 28, 1)    8192        layer5.leakyrelu[0][0]           \n",
      "__________________________________________________________________________________________________\n",
      "layer5.zeropad (ZeroPadding2D)  (None, 30, 30, 1)    0           layer5.conv[0][0]                \n",
      "__________________________________________________________________________________________________\n",
      "layer5.sigmoid (Activation)     (None, 30, 30, 1)    0           layer5.zeropad[0][0]             \n",
      "==================================================================================================\n",
      "Total params: 2,770,432\n",
      "Trainable params: 2,768,640\n",
      "Non-trainable params: 1,792\n",
      "__________________________________________________________________________________________________\n"
     ]
    }
   ],
   "source": [
    "model.discriminator.summary()"
   ]
  },
  {
   "cell_type": "code",
   "execution_count": null,
   "metadata": {},
   "outputs": [],
   "source": []
  }
 ],
 "metadata": {
  "kernelspec": {
   "display_name": "Python [conda env:kaggle]",
   "language": "python",
   "name": "conda-env-kaggle-py"
  },
  "language_info": {
   "codemirror_mode": {
    "name": "ipython",
    "version": 3
   },
   "file_extension": ".py",
   "mimetype": "text/x-python",
   "name": "python",
   "nbconvert_exporter": "python",
   "pygments_lexer": "ipython3",
   "version": "3.5.5"
  }
 },
 "nbformat": 4,
 "nbformat_minor": 2
}
