{
 "cells": [
  {
   "cell_type": "code",
   "execution_count": 1,
   "metadata": {},
   "outputs": [
    {
     "name": "stderr",
     "output_type": "stream",
     "text": [
      "Using TensorFlow backend.\n"
     ]
    }
   ],
   "source": [
    "from utils import *"
   ]
  },
  {
   "cell_type": "code",
   "execution_count": 1,
   "metadata": {},
   "outputs": [],
   "source": [
    "from keras.layers import Input, Concatenate, Lambda"
   ]
  },
  {
   "cell_type": "code",
   "execution_count": 8,
   "metadata": {},
   "outputs": [],
   "source": [
    "from keras.models import Model"
   ]
  },
  {
   "cell_type": "code",
   "execution_count": 2,
   "metadata": {},
   "outputs": [],
   "source": [
    "l = Lambda(lambda x: x * 2)"
   ]
  },
  {
   "cell_type": "code",
   "execution_count": 3,
   "metadata": {},
   "outputs": [
    {
     "data": {
      "text/plain": [
       "4"
      ]
     },
     "execution_count": 3,
     "metadata": {},
     "output_type": "execute_result"
    }
   ],
   "source": [
    "l.call()"
   ]
  },
  {
   "cell_type": "code",
   "execution_count": null,
   "metadata": {},
   "outputs": [],
   "source": []
  },
  {
   "cell_type": "code",
   "execution_count": 2,
   "metadata": {},
   "outputs": [],
   "source": [
    "D_model = D()"
   ]
  },
  {
   "cell_type": "code",
   "execution_count": 6,
   "metadata": {},
   "outputs": [],
   "source": [
    "input1 = Input((512, 512, 3))\n",
    "input2 = Input((512, 512, 3))\n",
    "\n",
    "inp = Concatenate()([input1, input2])\n",
    "D_model = D()\n",
    "model = Model(inputs=[input1, input2], outputs=[D_model(inp)])\n"
   ]
  },
  {
   "cell_type": "code",
   "execution_count": null,
   "metadata": {},
   "outputs": [],
   "source": []
  },
  {
   "cell_type": "code",
   "execution_count": null,
   "metadata": {},
   "outputs": [],
   "source": []
  },
  {
   "cell_type": "code",
   "execution_count": 3,
   "metadata": {},
   "outputs": [
    {
     "name": "stdout",
     "output_type": "stream",
     "text": [
      "_________________________________________________________________\n",
      "Layer (type)                 Output Shape              Param #   \n",
      "=================================================================\n",
      "input_1 (InputLayer)         (None, 512, 512, 6)       0         \n",
      "_________________________________________________________________\n",
      "layer1 (Conv2D)              (None, 256, 256, 64)      6144      \n",
      "_________________________________________________________________\n",
      "layer2.leakyrelu (LeakyReLU) (None, 256, 256, 64)      0         \n",
      "_________________________________________________________________\n",
      "layer2.conv (Conv2D)         (None, 128, 128, 128)     131072    \n",
      "_________________________________________________________________\n",
      "layer2.bn (BatchNormalizatio (None, 128, 128, 128)     512       \n",
      "_________________________________________________________________\n",
      "layer3.leakyrelu (LeakyReLU) (None, 128, 128, 128)     0         \n",
      "_________________________________________________________________\n",
      "layer3.conv (Conv2D)         (None, 64, 64, 256)       524288    \n",
      "_________________________________________________________________\n",
      "layer3.bn (BatchNormalizatio (None, 64, 64, 256)       1024      \n",
      "_________________________________________________________________\n",
      "layer4.leakyrelu (LeakyReLU) (None, 64, 64, 256)       0         \n",
      "_________________________________________________________________\n",
      "layer4.conv (Conv2D)         (None, 61, 61, 512)       2097152   \n",
      "_________________________________________________________________\n",
      "layer4.zeropad (ZeroPadding2 (None, 63, 63, 512)       0         \n",
      "_________________________________________________________________\n",
      "layer4.bn (BatchNormalizatio (None, 63, 63, 512)       2048      \n",
      "_________________________________________________________________\n",
      "layer5.leakyrelu (LeakyReLU) (None, 63, 63, 512)       0         \n",
      "_________________________________________________________________\n",
      "layer5.conv (Conv2D)         (None, 60, 60, 1)         8192      \n",
      "_________________________________________________________________\n",
      "layer5.zeropad (ZeroPadding2 (None, 62, 62, 1)         0         \n",
      "_________________________________________________________________\n",
      "layer5.sigmoid (Activation)  (None, 62, 62, 1)         0         \n",
      "=================================================================\n",
      "Total params: 2,770,432\n",
      "Trainable params: 2,768,640\n",
      "Non-trainable params: 1,792\n",
      "_________________________________________________________________\n"
     ]
    }
   ],
   "source": [
    "model0.summary()"
   ]
  },
  {
   "cell_type": "code",
   "execution_count": null,
   "metadata": {},
   "outputs": [],
   "source": []
  },
  {
   "cell_type": "code",
   "execution_count": null,
   "metadata": {},
   "outputs": [],
   "source": []
  },
  {
   "cell_type": "code",
   "execution_count": null,
   "metadata": {},
   "outputs": [],
   "source": []
  },
  {
   "cell_type": "code",
   "execution_count": null,
   "metadata": {},
   "outputs": [],
   "source": []
  },
  {
   "cell_type": "code",
   "execution_count": null,
   "metadata": {},
   "outputs": [],
   "source": []
  },
  {
   "cell_type": "code",
   "execution_count": null,
   "metadata": {},
   "outputs": [],
   "source": [
    "import h5py"
   ]
  }
 ],
 "metadata": {
  "kernelspec": {
   "display_name": "Python [conda env:kaggle]",
   "language": "python",
   "name": "conda-env-kaggle-py"
  },
  "language_info": {
   "codemirror_mode": {
    "name": "ipython",
    "version": 3
   },
   "file_extension": ".py",
   "mimetype": "text/x-python",
   "name": "python",
   "nbconvert_exporter": "python",
   "pygments_lexer": "ipython3",
   "version": "3.5.5"
  }
 },
 "nbformat": 4,
 "nbformat_minor": 2
}
