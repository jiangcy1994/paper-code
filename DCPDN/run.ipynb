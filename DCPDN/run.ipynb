{
 "cells": [
  {
   "cell_type": "code",
   "execution_count": 1,
   "metadata": {},
   "outputs": [],
   "source": [
    "import datetime\n",
    "import numpy as np\n",
    "import sys\n",
    "sys.path.append('../')"
   ]
  },
  {
   "cell_type": "markdown",
   "metadata": {},
   "source": [
    "# Train Total"
   ]
  },
  {
   "cell_type": "code",
   "execution_count": 2,
   "metadata": {},
   "outputs": [
    {
     "name": "stderr",
     "output_type": "stream",
     "text": [
      "Using TensorFlow backend.\n"
     ]
    }
   ],
   "source": [
    "from DCPDN import DCPDN\n",
    "from data_loader.dcpdn_data_loader import DCPDNDataLoader as DataLoader\n",
    "\n",
    "model = DCPDN(img_shape=(512, 512, 3))\n",
    "dl = DataLoader()"
   ]
  },
  {
   "cell_type": "code",
   "execution_count": null,
   "metadata": {},
   "outputs": [
    {
     "name": "stdout",
     "output_type": "stream",
     "text": [
      "[Epoch 0/10] [Batch 0/1000] [D loss: 3.512731] [G loss: 0.544011, Lt: 3.132228, La: 3.352622, Ld: 8.005783] time: 0:00:21.310997 \n",
      "gc collected\n",
      "[Epoch 0/10] [Batch 1/1000] [D loss: 2.553872] [G loss: 0.583469, Lt: 3.699849, La: 4.523457, Ld: 9.338176] time: 0:00:30.543034 \n",
      "[Epoch 0/10] [Batch 2/1000] [D loss: 2.468104] [G loss: 0.501685, Lt: 3.650045, La: 5.034728, Ld: 9.054553] time: 0:00:40.396408 \n",
      "[Epoch 0/10] [Batch 3/1000] [D loss: 2.001804] [G loss: 0.476312, Lt: 3.664882, La: 4.993224, Ld: 9.090439] time: 0:00:50.735748 \n",
      "[Epoch 0/10] [Batch 4/1000] [D loss: 1.879702] [G loss: 0.391236, Lt: 3.822901, La: 4.847678, Ld: 9.091877] time: 0:01:00.682851 \n",
      "[Epoch 0/10] [Batch 5/1000] [D loss: 1.349108] [G loss: 0.308833, Lt: 3.706184, La: 5.023982, Ld: 8.868656] time: 0:01:10.639450 \n",
      "gc collected\n",
      "[Epoch 0/10] [Batch 6/1000] [D loss: 1.389811] [G loss: 0.273737, Lt: 3.600360, La: 5.130136, Ld: 8.902430] time: 0:01:21.715092 \n",
      "[Epoch 0/10] [Batch 7/1000] [D loss: 1.316893] [G loss: 0.316495, Lt: 3.692301, La: 5.472122, Ld: 9.348217] time: 0:01:32.399734 \n",
      "[Epoch 0/10] [Batch 8/1000] [D loss: 1.215944] [G loss: 0.312684, Lt: 3.657737, La: 5.289154, Ld: 9.017604] time: 0:01:42.260522 \n",
      "[Epoch 0/10] [Batch 9/1000] [D loss: 1.258348] [G loss: 0.243773, Lt: 3.736435, La: 4.975214, Ld: 8.891683] time: 0:01:52.684506 \n",
      "[Epoch 0/10] [Batch 10/1000] [D loss: 1.479438] [G loss: 0.209004, Lt: 3.691924, La: 4.685738, Ld: 8.690615] time: 0:02:02.911926 \n",
      "gc collected\n",
      "[Epoch 0/10] [Batch 11/1000] [D loss: 1.050928] [G loss: 0.263796, Lt: 3.890903, La: 4.866121, Ld: 9.062382] time: 0:02:13.829031 \n",
      "[Epoch 0/10] [Batch 12/1000] [D loss: 1.215427] [G loss: 0.241294, Lt: 3.873912, La: 4.966516, Ld: 9.123766] time: 0:02:24.067623 \n",
      "[Epoch 0/10] [Batch 13/1000] [D loss: 0.851519] [G loss: 0.221537, Lt: 3.761877, La: 5.175001, Ld: 9.082882] time: 0:02:34.556180 \n",
      "[Epoch 0/10] [Batch 14/1000] [D loss: 1.140540] [G loss: 0.201990, Lt: 3.899058, La: 4.925521, Ld: 9.307175] time: 0:02:44.699756 \n",
      "[Epoch 0/10] [Batch 15/1000] [D loss: 1.288452] [G loss: 0.139922, Lt: 4.060419, La: 5.006037, Ld: 9.669260] time: 0:02:54.872442 \n",
      "gc collected\n",
      "[Epoch 0/10] [Batch 16/1000] [D loss: 1.407357] [G loss: 0.185466, Lt: 4.111709, La: 4.917473, Ld: 9.561218] time: 0:03:05.637000 \n",
      "[Epoch 0/10] [Batch 17/1000] [D loss: 1.257044] [G loss: 0.203441, Lt: 4.482280, La: 4.850937, Ld: 10.136055] time: 0:03:16.768696 \n",
      "[Epoch 0/10] [Batch 18/1000] [D loss: 0.900094] [G loss: 0.214241, Lt: 4.552275, La: 4.810549, Ld: 9.999543] time: 0:03:27.566764 \n",
      "[Epoch 0/10] [Batch 19/1000] [D loss: 1.220303] [G loss: 0.130596, Lt: 4.682883, La: 4.482859, Ld: 10.004751] time: 0:03:38.016813 \n",
      "[Epoch 0/10] [Batch 20/1000] [D loss: 0.985424] [G loss: 0.228704, Lt: 4.789189, La: 4.565246, Ld: 10.343257] time: 0:03:48.948110 \n",
      "gc collected\n",
      "[Epoch 0/10] [Batch 21/1000] [D loss: 1.397669] [G loss: 0.209805, Lt: 4.962788, La: 4.331685, Ld: 10.787530] time: 0:03:59.882567 \n",
      "[Epoch 0/10] [Batch 22/1000] [D loss: 0.708747] [G loss: 0.133682, Lt: 4.864570, La: 4.344849, Ld: 10.443518] time: 0:04:10.855425 \n",
      "[Epoch 0/10] [Batch 23/1000] [D loss: 0.622927] [G loss: 0.165147, Lt: 5.049226, La: 4.528768, Ld: 10.661283] time: 0:04:22.131675 \n",
      "[Epoch 0/10] [Batch 24/1000] [D loss: 0.535474] [G loss: 0.121843, Lt: 4.802877, La: 4.840212, Ld: 10.433121] time: 0:04:33.237738 \n",
      "[Epoch 0/10] [Batch 25/1000] [D loss: 1.490372] [G loss: 0.165934, Lt: 4.388096, La: 5.137468, Ld: 10.500804] time: 0:04:44.471419 \n",
      "gc collected\n",
      "[Epoch 0/10] [Batch 26/1000] [D loss: 0.863932] [G loss: 0.160363, Lt: 4.036129, La: 5.175655, Ld: 9.702319] time: 0:04:55.744894 \n",
      "[Epoch 0/10] [Batch 27/1000] [D loss: 0.493866] [G loss: 0.211316, Lt: 4.321195, La: 5.120331, Ld: 9.864089] time: 0:05:06.909145 \n",
      "[Epoch 0/10] [Batch 28/1000] [D loss: 0.423787] [G loss: 0.179465, Lt: 4.295609, La: 5.157947, Ld: 9.771624] time: 0:05:18.259355 \n",
      "[Epoch 0/10] [Batch 29/1000] [D loss: 0.417973] [G loss: 0.240317, Lt: 4.316400, La: 5.284397, Ld: 9.980509] time: 0:05:30.113942 \n",
      "[Epoch 0/10] [Batch 30/1000] [D loss: 0.728800] [G loss: 0.121974, Lt: 4.253369, La: 5.270300, Ld: 9.974890] time: 0:05:42.128810 \n",
      "gc collected\n",
      "[Epoch 0/10] [Batch 31/1000] [D loss: 1.128164] [G loss: 0.164249, Lt: 4.249529, La: 5.174608, Ld: 9.986458] time: 0:05:54.086382 \n",
      "[Epoch 0/10] [Batch 32/1000] [D loss: 0.304720] [G loss: 0.185178, Lt: 4.194066, La: 5.421746, Ld: 9.920731] time: 0:06:05.901088 \n",
      "[Epoch 0/10] [Batch 33/1000] [D loss: 0.274184] [G loss: 0.157711, Lt: 4.615118, La: 5.170089, Ld: 10.149208] time: 0:06:17.858976 \n",
      "[Epoch 0/10] [Batch 34/1000] [D loss: 0.249283] [G loss: 0.220683, Lt: 4.632284, La: 4.980366, Ld: 10.082964] time: 0:06:29.845392 \n",
      "[Epoch 0/10] [Batch 35/1000] [D loss: 0.255180] [G loss: 0.180767, Lt: 4.560793, La: 5.440428, Ld: 10.320533] time: 0:06:42.052253 \n",
      "gc collected\n",
      "[Epoch 0/10] [Batch 36/1000] [D loss: 0.225366] [G loss: 0.189893, Lt: 4.638845, La: 5.206630, Ld: 10.224714] time: 0:06:54.675719 \n",
      "[Epoch 0/10] [Batch 37/1000] [D loss: 0.291128] [G loss: 0.145840, Lt: 4.740679, La: 5.157666, Ld: 10.431062] time: 0:07:06.954609 \n",
      "[Epoch 0/10] [Batch 38/1000] [D loss: 0.331460] [G loss: 0.188868, Lt: 4.672233, La: 5.194806, Ld: 10.283270] time: 0:07:19.661890 \n",
      "[Epoch 0/10] [Batch 39/1000] [D loss: 0.216755] [G loss: 0.188256, Lt: 4.687017, La: 5.108275, Ld: 10.224372] time: 0:07:32.025375 \n",
      "[Epoch 0/10] [Batch 40/1000] [D loss: 0.187425] [G loss: 0.150428, Lt: 4.728686, La: 5.148612, Ld: 10.260479] time: 0:07:44.378752 \n",
      "gc collected\n",
      "[Epoch 0/10] [Batch 41/1000] [D loss: 0.248717] [G loss: 0.132905, Lt: 4.664933, La: 4.989723, Ld: 10.104062] time: 0:07:57.760486 \n",
      "[Epoch 0/10] [Batch 42/1000] [D loss: 0.246826] [G loss: 0.137178, Lt: 4.740467, La: 5.296813, Ld: 10.697520] time: 0:08:10.013712 \n",
      "[Epoch 0/10] [Batch 43/1000] [D loss: 1.267323] [G loss: 0.122675, Lt: 4.718464, La: 5.369653, Ld: 11.254004] time: 0:08:22.949749 \n",
      "[Epoch 0/10] [Batch 44/1000] [D loss: 0.610027] [G loss: 0.151443, Lt: 4.815210, La: 5.301534, Ld: 10.499651] time: 0:08:37.046451 \n",
      "[Epoch 0/10] [Batch 45/1000] [D loss: 0.171826] [G loss: 0.188734, Lt: 4.720075, La: 5.271039, Ld: 10.418659] time: 0:08:49.939571 \n",
      "gc collected\n",
      "[Epoch 0/10] [Batch 46/1000] [D loss: 0.128021] [G loss: 0.126896, Lt: 4.615392, La: 5.254509, Ld: 10.250620] time: 0:09:04.162485 \n",
      "[Epoch 0/10] [Batch 47/1000] [D loss: 0.116279] [G loss: 0.136288, Lt: 4.699595, La: 5.076926, Ld: 10.190401] time: 0:09:17.557383 \n",
      "[Epoch 0/10] [Batch 48/1000] [D loss: 0.107973] [G loss: 0.128154, Lt: 4.718872, La: 5.301875, Ld: 10.382812] time: 0:09:31.790771 \n",
      "[Epoch 0/10] [Batch 49/1000] [D loss: 0.081743] [G loss: 0.213250, Lt: 4.705513, La: 5.133477, Ld: 10.317791] time: 0:09:45.085632 \n",
      "[Epoch 0/10] [Batch 50/1000] [D loss: 0.084253] [G loss: 0.143526, Lt: 4.712573, La: 5.116060, Ld: 10.272941] time: 0:10:00.266431 \n",
      "gc collected\n",
      "[Epoch 0/10] [Batch 51/1000] [D loss: 0.076960] [G loss: 0.221482, Lt: 4.809323, La: 5.192187, Ld: 10.484298] time: 0:10:14.509187 \n",
      "[Epoch 0/10] [Batch 52/1000] [D loss: 0.071435] [G loss: 0.106415, Lt: 4.769610, La: 5.315724, Ld: 10.421512] time: 0:10:32.214746 \n",
      "[Epoch 0/10] [Batch 53/1000] [D loss: 0.083811] [G loss: 0.151065, Lt: 4.655845, La: 5.248260, Ld: 10.303618] time: 0:10:47.721287 \n",
      "[Epoch 0/10] [Batch 54/1000] [D loss: 0.524606] [G loss: 0.189810, Lt: 5.017329, La: 4.856341, Ld: 11.805731] time: 0:11:01.945735 \n",
      "[Epoch 0/10] [Batch 55/1000] [D loss: 0.423956] [G loss: 0.165869, Lt: 5.127682, La: 4.909670, Ld: 10.641902] time: 0:11:17.866654 \n",
      "gc collected\n",
      "[Epoch 0/10] [Batch 56/1000] [D loss: 0.399846] [G loss: 0.173163, Lt: 5.124290, La: 4.908721, Ld: 10.866706] time: 0:11:33.756362 \n",
      "[Epoch 0/10] [Batch 57/1000] [D loss: 1.584812] [G loss: 0.172842, Lt: 5.058772, La: 5.009669, Ld: 10.819937] time: 0:11:48.682744 \n",
      "[Epoch 0/10] [Batch 58/1000] [D loss: 0.348420] [G loss: 0.185684, Lt: 5.112295, La: 4.905504, Ld: 10.644966] time: 0:12:03.996745 \n",
      "[Epoch 0/10] [Batch 59/1000] [D loss: 0.122088] [G loss: 0.130520, Lt: 5.076004, La: 4.967537, Ld: 10.594554] time: 0:12:20.251922 \n",
      "[Epoch 0/10] [Batch 60/1000] [D loss: 0.098385] [G loss: 0.133908, Lt: 5.134385, La: 4.848959, Ld: 10.531783] time: 0:12:35.280062 \n",
      "gc collected\n",
      "[Epoch 0/10] [Batch 61/1000] [D loss: 0.076140] [G loss: 0.118060, Lt: 5.347469, La: 4.543393, Ld: 10.597878] time: 0:12:50.153850 \n",
      "[Epoch 0/10] [Batch 62/1000] [D loss: 0.101305] [G loss: 0.153800, Lt: 5.366990, La: 4.336709, Ld: 10.461518] time: 0:13:10.595783 \n",
      "[Epoch 0/10] [Batch 63/1000] [D loss: 0.072269] [G loss: 0.189100, Lt: 5.265989, La: 4.553186, Ld: 10.566881] time: 0:13:31.669071 \n",
      "[Epoch 0/10] [Batch 64/1000] [D loss: 0.090318] [G loss: 0.210254, Lt: 5.414474, La: 4.256936, Ld: 10.487104] time: 0:13:50.105152 \n",
      "[Epoch 0/10] [Batch 65/1000] [D loss: 0.086361] [G loss: 0.226465, Lt: 5.345181, La: 4.386401, Ld: 10.365590] time: 0:14:09.673321 \n",
      "gc collected\n",
      "[Epoch 0/10] [Batch 66/1000] [D loss: 0.090528] [G loss: 0.164864, Lt: 5.448676, La: 4.067304, Ld: 10.197708] time: 0:14:30.620463 \n",
      "[Epoch 0/10] [Batch 67/1000] [D loss: 0.069241] [G loss: 0.259745, Lt: 5.630111, La: 4.116388, Ld: 10.491306] time: 0:14:48.580175 \n",
      "[Epoch 0/10] [Batch 68/1000] [D loss: 0.247885] [G loss: 0.174377, Lt: 5.308765, La: 4.391749, Ld: 10.666027] time: 0:15:08.552784 \n",
      "[Epoch 0/10] [Batch 69/1000] [D loss: 0.430341] [G loss: 0.200004, Lt: 5.510099, La: 4.547573, Ld: 11.846379] time: 0:15:28.984305 \n",
      "[Epoch 0/10] [Batch 70/1000] [D loss: 0.410535] [G loss: 0.230891, Lt: 5.381218, La: 4.703055, Ld: 10.758652] time: 0:15:47.547999 \n",
      "gc collected\n",
      "[Epoch 0/10] [Batch 71/1000] [D loss: 0.274671] [G loss: 0.193144, Lt: 5.313035, La: 5.022179, Ld: 11.296598] time: 0:16:10.619948 \n",
      "[Epoch 0/10] [Batch 72/1000] [D loss: 2.180481] [G loss: 0.209152, Lt: 5.426886, La: 4.238602, Ld: 10.428784] time: 0:16:32.915884 \n",
      "[Epoch 0/10] [Batch 73/1000] [D loss: 0.507209] [G loss: 0.151625, Lt: 5.383784, La: 4.247311, Ld: 10.353027] time: 0:16:55.291370 \n",
      "[Epoch 0/10] [Batch 74/1000] [D loss: 0.443767] [G loss: 0.141738, Lt: 5.526707, La: 3.605803, Ld: 9.542904] time: 0:17:17.705756 \n",
      "[Epoch 0/10] [Batch 75/1000] [D loss: 0.079830] [G loss: 0.140493, Lt: 5.500729, La: 4.127283, Ld: 10.082351] time: 0:17:40.078219 \n",
      "gc collected\n",
      "[Epoch 0/10] [Batch 76/1000] [D loss: 0.070190] [G loss: 0.120147, Lt: 5.338800, La: 4.505269, Ld: 10.141690] time: 0:18:16.735001 \n"
     ]
    }
   ],
   "source": [
    "model.train(dl, 10, 4)"
   ]
  }
 ],
 "metadata": {
  "kernelspec": {
   "display_name": "Python [conda env:kaggle]",
   "language": "python",
   "name": "conda-env-kaggle-py"
  },
  "language_info": {
   "codemirror_mode": {
    "name": "ipython",
    "version": 3
   },
   "file_extension": ".py",
   "mimetype": "text/x-python",
   "name": "python",
   "nbconvert_exporter": "python",
   "pygments_lexer": "ipython3",
   "version": "3.5.5"
  }
 },
 "nbformat": 4,
 "nbformat_minor": 2
}
