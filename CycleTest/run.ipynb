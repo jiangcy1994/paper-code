{
 "cells": [
  {
   "cell_type": "markdown",
   "metadata": {},
   "source": [
    "# Cycle Test"
   ]
  },
  {
   "cell_type": "markdown",
   "metadata": {},
   "source": [
    "## Build Model"
   ]
  },
  {
   "cell_type": "code",
   "execution_count": 1,
   "metadata": {},
   "outputs": [
    {
     "name": "stdout",
     "output_type": "stream",
     "text": [
      "Latest checkpoint restored!!\n"
     ]
    }
   ],
   "source": [
    "import sys\n",
    "sys.path.append('../')\n",
    "\n",
    "from cycle_dehaze_test import CycleDehazeTest\n",
    "# from data_loader.reside_data_loader import RESIDEOTSDataLoader as DataLoader\n",
    "from data_loader.reside_sample_data_loader import RESIDEOTSSampleDataLoader as DataLoader\n",
    "import numpy as np\n",
    "from skimage.measure import compare_psnr, compare_ssim\n",
    "import tensorflow as tf\n",
    "\n",
    "model = CycleDehazeTest()\n",
    "dl = DataLoader()"
   ]
  },
  {
   "cell_type": "markdown",
   "metadata": {},
   "source": [
    "## Train Model"
   ]
  },
  {
   "cell_type": "code",
   "execution_count": 2,
   "metadata": {},
   "outputs": [
    {
     "name": "stdout",
     "output_type": "stream",
     "text": [
      "epoch 1/20\n"
     ]
    },
    {
     "name": "stderr",
     "output_type": "stream",
     "text": [
      "C:\\Users\\jiangcy\\Anaconda3\\envs\\kaggle\\lib\\site-packages\\tensorflow_core\\python\\keras\\utils\\io_utils.py:70: H5pyDeprecationWarning: The default file mode will change to 'r' (read-only) in h5py 3.0. To suppress this warning, pass the mode you need to h5py.File(), or set the global default h5.get_config().default_file_mode, or set the environment variable H5PY_DEFAULT_READONLY=1. Available modes are: 'r', 'r+', 'w', 'w-'/'x', 'a'. See the docs for details.\n",
      "  f = h5py.File(datapath)\n"
     ]
    },
    {
     "name": "stdout",
     "output_type": "stream",
     "text": [
      "Loss: Dy: 0.5888163447380066 G: 5.69398307800293\n",
      "Time taken for epoch 1 of totoal epoch 20 is 0:21:33.923612\n",
      "\n",
      "epoch 2/20\n",
      "Loss: Dy: 0.5503608584403992 G: 4.288586616516113\n",
      "Time taken for epoch 2 of totoal epoch 20 is 0:18:50.975390\n",
      "\n",
      "epoch 3/20\n",
      "Loss: Dy: 0.47526705265045166 G: 3.5622169971466064\n",
      "Time taken for epoch 3 of totoal epoch 20 is 0:18:55.484332\n",
      "\n",
      "epoch 4/20\n",
      "Loss: Dy: 0.48614776134490967 G: 4.755651950836182\n",
      "Time taken for epoch 4 of totoal epoch 20 is 0:18:46.069510\n",
      "\n",
      "epoch 5/20\n",
      "Loss: Dy: 0.4611244797706604 G: 3.9245717525482178\n",
      "Saving checkpoint for epoch 5 at ./checkpoints/train\\ckpt-9\n",
      "Time taken for epoch 5 of totoal epoch 20 is 0:18:47.352196\n",
      "\n",
      "epoch 6/20\n",
      "Loss: Dy: 0.6006788611412048 G: 4.821320056915283\n",
      "Time taken for epoch 6 of totoal epoch 20 is 0:18:44.398311\n",
      "\n",
      "epoch 7/20\n",
      "Loss: Dy: 0.40453654527664185 G: 3.9651436805725098\n",
      "Time taken for epoch 7 of totoal epoch 20 is 0:18:47.613680\n",
      "\n",
      "epoch 8/20\n",
      "Loss: Dy: 0.4650723934173584 G: 3.6833279132843018\n",
      "Time taken for epoch 8 of totoal epoch 20 is 0:18:52.488348\n",
      "\n",
      "epoch 9/20\n",
      "Loss: Dy: 0.5899957418441772 G: 3.1753549575805664\n",
      "Time taken for epoch 9 of totoal epoch 20 is 0:18:45.902952\n",
      "\n",
      "epoch 10/20\n",
      "Loss: Dy: 0.4569728374481201 G: 4.234196186065674\n",
      "Saving checkpoint for epoch 10 at ./checkpoints/train\\ckpt-10\n",
      "Time taken for epoch 10 of totoal epoch 20 is 0:18:46.765752\n",
      "\n",
      "epoch 11/20\n",
      "Loss: Dy: 0.4751136898994446 G: 3.63510799407959\n",
      "Time taken for epoch 11 of totoal epoch 20 is 0:18:46.973987\n",
      "\n",
      "epoch 12/20\n",
      "Loss: Dy: 0.6533662676811218 G: 4.075946807861328\n",
      "Time taken for epoch 12 of totoal epoch 20 is 0:18:44.762035\n",
      "\n",
      "epoch 13/20\n",
      "Loss: Dy: 0.46708741784095764 G: 4.544224262237549\n",
      "Time taken for epoch 13 of totoal epoch 20 is 0:18:44.397979\n",
      "\n",
      "epoch 14/20\n",
      "Loss: Dy: 0.5346105098724365 G: 4.098821640014648\n",
      "Time taken for epoch 14 of totoal epoch 20 is 0:18:48.340443\n",
      "\n",
      "epoch 15/20\n",
      "Loss: Dy: 0.5187109112739563 G: 3.6138710975646973\n",
      "Saving checkpoint for epoch 15 at ./checkpoints/train\\ckpt-11\n",
      "Time taken for epoch 15 of totoal epoch 20 is 0:18:49.624108\n",
      "\n",
      "epoch 16/20\n",
      "Loss: Dy: 0.5834940671920776 G: 4.107135772705078\n",
      "Time taken for epoch 16 of totoal epoch 20 is 0:18:46.690740\n",
      "\n",
      "epoch 17/20\n",
      "Loss: Dy: 0.9338958263397217 G: 2.885197162628174\n",
      "Time taken for epoch 17 of totoal epoch 20 is 0:18:45.468117\n",
      "\n",
      "epoch 18/20\n",
      "Loss: Dy: 0.5167489051818848 G: 3.2188498973846436\n",
      "Time taken for epoch 18 of totoal epoch 20 is 0:18:44.338141\n",
      "\n",
      "epoch 19/20\n",
      "Loss: Dy: 0.558637261390686 G: 3.2130908966064453\n",
      "Time taken for epoch 19 of totoal epoch 20 is 0:18:44.776990\n",
      "\n",
      "epoch 20/20\n",
      "Loss: Dy: 0.5664308071136475 G: 3.3364832401275635\n",
      "Saving checkpoint for epoch 20 at ./checkpoints/train\\ckpt-12\n",
      "Time taken for epoch 20 of totoal epoch 20 is 0:18:57.480969\n",
      "\n"
     ]
    }
   ],
   "source": [
    "haze_train_img_ds, clear_train_img_ds, A_ds, b_ds = dl.train_data(include_A_b=True)\n",
    "model.train(20, haze_train_img_ds, clear_train_img_ds, A_ds, b_ds, 8, 10000)"
   ]
  },
  {
   "cell_type": "markdown",
   "metadata": {},
   "source": [
    "$I(z) = J(z)t(z) + A(z)(1-t(z))$\n",
    "\n",
    "$I(z) = A\\times J(z) + b$\n",
    "\n",
    "$A = t(z)$\n",
    "\n",
    "$b = A(z)(1-t(z))$"
   ]
  },
  {
   "cell_type": "markdown",
   "metadata": {},
   "source": [
    "## Evaluate"
   ]
  },
  {
   "cell_type": "code",
   "execution_count": 4,
   "metadata": {},
   "outputs": [
    {
     "name": "stdout",
     "output_type": "stream",
     "text": [
      "20.63705611545229 0.8103402182398267\n"
     ]
    }
   ],
   "source": [
    "def evaluate(model, datasetX, datasetY, batch_size):\n",
    "\n",
    "    psnr_list, ssim_list = [], []\n",
    "    \n",
    "    for image_x, image_y in tf.data.Dataset.zip((datasetX, datasetY)).batch(batch_size):\n",
    "        fake_y = model.predict(image_x)\n",
    "        for i in range(image_y.shape[0]):\n",
    "            psnr_list.append(compare_psnr(image_y.numpy()[i], fake_y[i], data_range=1))\n",
    "            ssim_list.append(compare_ssim(image_y.numpy()[i], fake_y[i], 3))\n",
    "\n",
    "    return psnr_list, ssim_list\n",
    "\n",
    "datasetX, datasetY = dl.test_data()\n",
    "psnr_list, ssim_list = evaluate(model.generator_g_image, datasetX, datasetY, 8)\n",
    "\n",
    "print(np.mean(psnr_list), np.mean(ssim_list))"
   ]
  }
 ],
 "metadata": {
  "kernelspec": {
   "display_name": "Python [conda env:kaggle]",
   "language": "python",
   "name": "conda-env-kaggle-py"
  },
  "language_info": {
   "codemirror_mode": {
    "name": "ipython",
    "version": 3
   },
   "file_extension": ".py",
   "mimetype": "text/x-python",
   "name": "python",
   "nbconvert_exporter": "python",
   "pygments_lexer": "ipython3",
   "version": "3.6.7"
  }
 },
 "nbformat": 4,
 "nbformat_minor": 2
}
