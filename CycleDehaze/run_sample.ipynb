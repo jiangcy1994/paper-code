{
 "cells": [
  {
   "cell_type": "markdown",
   "metadata": {},
   "source": [
    "# Cycle Dehaze"
   ]
  },
  {
   "cell_type": "markdown",
   "metadata": {},
   "source": [
    "## Build Model"
   ]
  },
  {
   "cell_type": "code",
   "execution_count": 1,
   "metadata": {},
   "outputs": [],
   "source": [
    "import sys\n",
    "sys.path.append('../')\n",
    "\n",
    "from cycle_dehaze import CycleDehaze\n",
    "from data_loader.reside_sample_data_loader import RESIDEOTSSampleDataLoader as DataLoader\n",
    "import numpy as np\n",
    "from skimage.measure import compare_psnr, compare_ssim\n",
    "import tensorflow as tf\n",
    "\n",
    "model = CycleDehaze()\n",
    "dl = DataLoader()"
   ]
  },
  {
   "cell_type": "markdown",
   "metadata": {},
   "source": [
    "## Train Model"
   ]
  },
  {
   "cell_type": "code",
   "execution_count": 2,
   "metadata": {},
   "outputs": [
    {
     "name": "stdout",
     "output_type": "stream",
     "text": [
      "epoch 1/30\n",
      "Loss: Dx: 0.8642263412475586 Dy: 0.8101974725723267 G: 24.68951416015625 F: 24.729290008544922\n",
      "Time taken for epoch 1 of totoal epoch 30 is 0:03:17.877875\n",
      "\n",
      "epoch 2/30\n",
      "Loss: Dx: 0.6853303909301758 Dy: 0.7010290622711182 G: 4.8360724449157715 F: 4.150176525115967\n",
      "Time taken for epoch 2 of totoal epoch 30 is 0:02:05.947655\n",
      "\n",
      "epoch 3/30\n",
      "Loss: Dx: 0.6726367473602295 Dy: 0.3775876760482788 G: 4.805303573608398 F: 4.392053127288818\n",
      "Time taken for epoch 3 of totoal epoch 30 is 0:02:06.359306\n",
      "\n",
      "epoch 4/30\n",
      "Loss: Dx: 0.39749738574028015 Dy: 0.137455552816391 G: 5.948309898376465 F: 4.871628761291504\n",
      "Time taken for epoch 4 of totoal epoch 30 is 0:02:06.644752\n",
      "\n",
      "epoch 5/30\n",
      "Loss: Dx: 0.26103657484054565 Dy: 0.33430689573287964 G: 4.761781215667725 F: 4.908614635467529\n",
      "Saving checkpoint for epoch 5 at ./checkpoints/train\\ckpt-1\n",
      "Time taken for epoch 5 of totoal epoch 30 is 0:02:10.814346\n",
      "\n",
      "epoch 6/30\n",
      "Loss: Dx: 0.22008313238620758 Dy: 0.1918846070766449 G: 5.508143424987793 F: 5.513810634613037\n",
      "Time taken for epoch 6 of totoal epoch 30 is 0:02:07.870524\n",
      "\n",
      "epoch 7/30\n",
      "Loss: Dx: 0.15027925372123718 Dy: 0.2900616228580475 G: 5.834654331207275 F: 5.58394718170166\n",
      "Time taken for epoch 7 of totoal epoch 30 is 0:02:07.578955\n",
      "\n",
      "epoch 8/30\n",
      "Loss: Dx: 0.18054476380348206 Dy: 0.12437576055526733 G: 5.866081237792969 F: 5.933722496032715\n",
      "Time taken for epoch 8 of totoal epoch 30 is 0:02:07.424676\n",
      "\n",
      "epoch 9/30\n",
      "Loss: Dx: 0.10659091174602509 Dy: 0.8697695732116699 G: 5.610515117645264 F: 6.572244644165039\n",
      "Time taken for epoch 9 of totoal epoch 30 is 0:02:07.523784\n",
      "\n",
      "epoch 10/30\n",
      "Loss: Dx: 0.4646875262260437 Dy: 0.6216188073158264 G: 6.9126482009887695 F: 4.239508628845215\n",
      "Saving checkpoint for epoch 10 at ./checkpoints/train\\ckpt-2\n",
      "Time taken for epoch 10 of totoal epoch 30 is 0:02:06.537546\n",
      "\n",
      "epoch 11/30\n",
      "Loss: Dx: 0.3477238416671753 Dy: 0.2257896065711975 G: 5.468904495239258 F: 4.292811870574951\n",
      "Time taken for epoch 11 of totoal epoch 30 is 0:02:05.109349\n",
      "\n",
      "epoch 12/30\n",
      "Loss: Dx: 0.18360330164432526 Dy: 0.35528564453125 G: 4.897480487823486 F: 4.938368320465088\n",
      "Time taken for epoch 12 of totoal epoch 30 is 0:02:06.616757\n",
      "\n",
      "epoch 13/30\n",
      "Loss: Dx: 0.4974322021007538 Dy: 0.48650240898132324 G: 6.362472057342529 F: 5.9148783683776855\n",
      "Time taken for epoch 13 of totoal epoch 30 is 0:02:07.129702\n",
      "\n",
      "epoch 14/30\n",
      "Loss: Dx: 0.6711640954017639 Dy: 0.22149914503097534 G: 5.2823944091796875 F: 7.120007514953613\n",
      "Time taken for epoch 14 of totoal epoch 30 is 0:02:07.337617\n",
      "\n",
      "epoch 15/30\n",
      "Loss: Dx: 0.3369188904762268 Dy: 0.4632623493671417 G: 4.732217311859131 F: 4.8129777908325195\n",
      "Saving checkpoint for epoch 15 at ./checkpoints/train\\ckpt-3\n",
      "Time taken for epoch 15 of totoal epoch 30 is 0:02:09.162555\n",
      "\n",
      "epoch 16/30\n",
      "Loss: Dx: 0.4742835462093353 Dy: 0.7081151008605957 G: 3.900392532348633 F: 5.979410171508789\n",
      "Time taken for epoch 16 of totoal epoch 30 is 0:02:07.108971\n",
      "\n",
      "epoch 17/30\n",
      "Loss: Dx: 0.951664924621582 Dy: 0.2958831191062927 G: 4.873052597045898 F: 7.445037364959717\n",
      "Time taken for epoch 17 of totoal epoch 30 is 0:02:02.692329\n",
      "\n",
      "epoch 18/30\n",
      "Loss: Dx: 0.2717277407646179 Dy: 0.42130720615386963 G: 4.454784393310547 F: 4.601493835449219\n",
      "Time taken for epoch 18 of totoal epoch 30 is 0:02:02.206854\n",
      "\n",
      "epoch 19/30\n",
      "Loss: Dx: 1.107519268989563 Dy: 0.3219550848007202 G: 4.773019313812256 F: 8.173466682434082\n",
      "Time taken for epoch 19 of totoal epoch 30 is 0:02:01.912934\n",
      "\n",
      "epoch 20/30\n",
      "Loss: Dx: 0.4253297448158264 Dy: 0.7617784142494202 G: 6.4893317222595215 F: 5.330601215362549\n",
      "Saving checkpoint for epoch 20 at ./checkpoints/train\\ckpt-4\n",
      "Time taken for epoch 20 of totoal epoch 30 is 0:02:07.124099\n",
      "\n",
      "epoch 21/30\n",
      "Loss: Dx: 0.5241189002990723 Dy: 0.2837962508201599 G: 4.736853122711182 F: 3.8189773559570312\n",
      "Time taken for epoch 21 of totoal epoch 30 is 0:02:05.760690\n",
      "\n",
      "epoch 22/30\n",
      "Loss: Dx: 0.3649654686450958 Dy: 0.41949161887168884 G: 4.084511756896973 F: 5.210875511169434\n",
      "Time taken for epoch 22 of totoal epoch 30 is 0:02:07.027590\n",
      "\n",
      "epoch 23/30\n",
      "Loss: Dx: 0.48532339930534363 Dy: 0.721832275390625 G: 3.618414878845215 F: 3.6914000511169434\n",
      "Time taken for epoch 23 of totoal epoch 30 is 0:02:07.177861\n",
      "\n",
      "epoch 24/30\n",
      "Loss: Dx: 0.4979053735733032 Dy: 0.6012629866600037 G: 3.688828468322754 F: 3.5470292568206787\n",
      "Time taken for epoch 24 of totoal epoch 30 is 0:02:07.481692\n",
      "\n",
      "epoch 25/30\n",
      "Loss: Dx: 0.430545449256897 Dy: 0.7238674163818359 G: 3.5811123847961426 F: 3.675720691680908\n",
      "Saving checkpoint for epoch 25 at ./checkpoints/train\\ckpt-5\n",
      "Time taken for epoch 25 of totoal epoch 30 is 0:02:09.485316\n",
      "\n",
      "epoch 26/30\n",
      "Loss: Dx: 0.27567049860954285 Dy: 0.6197079420089722 G: 4.176543235778809 F: 4.751142501831055\n",
      "Time taken for epoch 26 of totoal epoch 30 is 0:02:06.970042\n",
      "\n",
      "epoch 27/30\n",
      "Loss: Dx: 0.3602355122566223 Dy: 0.40569427609443665 G: 3.9715185165405273 F: 5.268507957458496\n",
      "Time taken for epoch 27 of totoal epoch 30 is 0:02:07.427887\n",
      "\n",
      "epoch 28/30\n",
      "Loss: Dx: 0.714992880821228 Dy: 0.6249729990959167 G: 3.372549533843994 F: 3.104498863220215\n",
      "Time taken for epoch 28 of totoal epoch 30 is 0:02:07.442969\n",
      "\n",
      "epoch 29/30\n",
      "Loss: Dx: 0.6264204978942871 Dy: 0.5032801032066345 G: 3.6480002403259277 F: 3.168595314025879\n",
      "Time taken for epoch 29 of totoal epoch 30 is 0:02:07.455379\n",
      "\n",
      "epoch 30/30\n",
      "Loss: Dx: 0.48508650064468384 Dy: 0.4112873077392578 G: 3.921419382095337 F: 3.7439651489257812\n",
      "Saving checkpoint for epoch 30 at ./checkpoints/train\\ckpt-6\n",
      "Time taken for epoch 30 of totoal epoch 30 is 0:02:09.498126\n",
      "\n",
      "Saving checkpoint for epoch 30 at ./checkpoints/train\\ckpt-7\n",
      "Time taken is 0:02:11.131314\n",
      "\n"
     ]
    }
   ],
   "source": [
    "datasetX, datasetY = dl.train_data()\n",
    "model.train(30, datasetX, datasetY, 8, 10000)"
   ]
  },
  {
   "cell_type": "markdown",
   "metadata": {},
   "source": [
    "## Evaluate"
   ]
  },
  {
   "cell_type": "code",
   "execution_count": 3,
   "metadata": {},
   "outputs": [
    {
     "name": "stdout",
     "output_type": "stream",
     "text": [
      "13.648856525113775 0.6249173335733427\n"
     ]
    }
   ],
   "source": [
    "def evaluate(model, datasetX, datasetY, batch_size):\n",
    "\n",
    "    psnr_list, ssim_list = [], []\n",
    "    \n",
    "    for image_x, image_y in tf.data.Dataset.zip((datasetX, datasetY)).batch(batch_size):\n",
    "        fake_y = model.predict(image_x)\n",
    "        for i in range(image_y.shape[0]):\n",
    "            psnr_list.append(compare_psnr(image_y.numpy()[i], fake_y[i], data_range=1))\n",
    "            ssim_list.append(compare_ssim(image_y.numpy()[i], fake_y[i], 3))\n",
    "\n",
    "    return psnr_list, ssim_list\n",
    "\n",
    "datasetX, datasetY = dl.test_data()\n",
    "psnr_list, ssim_list = evaluate(model.generator_f, datasetX, datasetY, 8)\n",
    "\n",
    "print(np.mean(psnr_list), np.mean(ssim_list))"
   ]
  },
  {
   "cell_type": "code",
   "execution_count": null,
   "metadata": {},
   "outputs": [],
   "source": []
  }
 ],
 "metadata": {
  "kernelspec": {
   "display_name": "Python [conda env:kaggle]",
   "language": "python",
   "name": "conda-env-kaggle-py"
  },
  "language_info": {
   "codemirror_mode": {
    "name": "ipython",
    "version": 3
   },
   "file_extension": ".py",
   "mimetype": "text/x-python",
   "name": "python",
   "nbconvert_exporter": "python",
   "pygments_lexer": "ipython3",
   "version": "3.6.7"
  }
 },
 "nbformat": 4,
 "nbformat_minor": 2
}
