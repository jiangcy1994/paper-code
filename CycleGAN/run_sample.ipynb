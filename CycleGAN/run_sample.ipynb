{
 "cells": [
  {
   "cell_type": "markdown",
   "metadata": {},
   "source": [
    "# GAN"
   ]
  },
  {
   "cell_type": "markdown",
   "metadata": {},
   "source": [
    "## Build Model"
   ]
  },
  {
   "cell_type": "code",
   "execution_count": 1,
   "metadata": {},
   "outputs": [],
   "source": [
    "import sys\n",
    "sys.path.append('../')\n",
    "\n",
    "from cycle_gan import CycleGAN\n",
    "from data_loader.reside_sample_data_loader import RESIDEOTSSampleDataLoader as DataLoader\n",
    "import numpy as np\n",
    "from skimage.measure import compare_psnr, compare_ssim\n",
    "import tensorflow as tf\n",
    "\n",
    "model = CycleGAN(checkpoint_path='./checkpoints/sample')\n",
    "dl = DataLoader()"
   ]
  },
  {
   "cell_type": "markdown",
   "metadata": {},
   "source": [
    "## Train Model"
   ]
  },
  {
   "cell_type": "code",
   "execution_count": 2,
   "metadata": {},
   "outputs": [
    {
     "name": "stdout",
     "output_type": "stream",
     "text": [
      "epoch 1/30\n",
      "Batch:0 | Loss: | Dx: 0.8096089363098145 Dy: 0.7842153310775757 | G: 16.28584098815918 F: 17.48825454711914\n",
      "Saving checkpoint for epoch 1 at ./checkpoints/sample\\ckpt-1\n",
      "Time taken for epoch 1 of totoal epoch 30 is 0:02:23.569085\n",
      "\n",
      "epoch 2/30\n",
      "Batch:0 | Loss: | Dx: 0.5099071264266968 Dy: 0.6217392086982727 | G: 3.0145416259765625 F: 3.715210199356079\n",
      "Saving checkpoint for epoch 2 at ./checkpoints/sample\\ckpt-2\n",
      "Time taken for epoch 2 of totoal epoch 30 is 0:01:31.782628\n",
      "\n",
      "epoch 3/30\n",
      "Batch:0 | Loss: | Dx: 0.2290644496679306 Dy: 0.47831934690475464 | G: 3.7396788597106934 F: 4.516668796539307\n",
      "Saving checkpoint for epoch 3 at ./checkpoints/sample\\ckpt-3\n",
      "Time taken for epoch 3 of totoal epoch 30 is 0:01:31.854297\n",
      "\n",
      "epoch 4/30\n",
      "Batch:0 | Loss: | Dx: 0.10771000385284424 Dy: 0.3934279680252075 | G: 3.578274726867676 F: 5.41093111038208\n",
      "Saving checkpoint for epoch 4 at ./checkpoints/sample\\ckpt-4\n",
      "Time taken for epoch 4 of totoal epoch 30 is 0:01:31.565251\n",
      "\n",
      "epoch 5/30\n",
      "Batch:0 | Loss: | Dx: 0.15487098693847656 Dy: 0.1527900993824005 | G: 5.025754451751709 F: 4.285975456237793\n",
      "Saving checkpoint for epoch 5 at ./checkpoints/sample\\ckpt-5\n",
      "Time taken for epoch 5 of totoal epoch 30 is 0:01:31.654932\n",
      "\n",
      "epoch 6/30\n",
      "Batch:0 | Loss: | Dx: 0.3805762529373169 Dy: 0.49877506494522095 | G: 3.2573888301849365 F: 6.299726486206055\n",
      "Saving checkpoint for epoch 6 at ./checkpoints/sample\\ckpt-6\n",
      "Time taken for epoch 6 of totoal epoch 30 is 0:01:31.787543\n",
      "\n",
      "epoch 7/30\n",
      "Batch:0 | Loss: | Dx: 0.11581020057201385 Dy: 0.303192675113678 | G: 3.391874313354492 F: 4.703067302703857\n",
      "Saving checkpoint for epoch 7 at ./checkpoints/sample\\ckpt-7\n",
      "Time taken for epoch 7 of totoal epoch 30 is 0:01:32.020923\n",
      "\n",
      "epoch 8/30\n",
      "Batch:0 | Loss: | Dx: 0.11742940545082092 Dy: 0.6944777965545654 | G: 5.727298259735107 F: 4.887232303619385\n",
      "Saving checkpoint for epoch 8 at ./checkpoints/sample\\ckpt-8\n",
      "Time taken for epoch 8 of totoal epoch 30 is 0:01:31.770593\n",
      "\n",
      "epoch 9/30\n",
      "Batch:0 | Loss: | Dx: 0.37578532099723816 Dy: 0.5210351347923279 | G: 3.127565860748291 F: 3.2733278274536133\n",
      "Saving checkpoint for epoch 9 at ./checkpoints/sample\\ckpt-9\n",
      "Time taken for epoch 9 of totoal epoch 30 is 0:01:31.769595\n",
      "\n",
      "epoch 10/30\n",
      "Batch:0 | Loss: | Dx: 0.15969273447990417 Dy: 0.4013904333114624 | G: 3.136227607727051 F: 3.762659788131714\n",
      "Saving checkpoint for epoch 10 at ./checkpoints/sample\\ckpt-10\n",
      "Time taken for epoch 10 of totoal epoch 30 is 0:01:31.630966\n",
      "\n",
      "epoch 11/30\n",
      "Batch:0 | Loss: | Dx: 0.3943873643875122 Dy: 0.26211273670196533 | G: 4.101568698883057 F: 3.0941591262817383\n",
      "Saving checkpoint for epoch 11 at ./checkpoints/sample\\ckpt-11\n",
      "Time taken for epoch 11 of totoal epoch 30 is 0:01:31.797520\n",
      "\n",
      "epoch 12/30\n",
      "Batch:0 | Loss: | Dx: 0.1520085632801056 Dy: 0.1684158593416214 | G: 4.4000935554504395 F: 3.9994235038757324\n",
      "Saving checkpoint for epoch 12 at ./checkpoints/sample\\ckpt-12\n",
      "Time taken for epoch 12 of totoal epoch 30 is 0:01:31.553174\n",
      "\n",
      "epoch 13/30\n",
      "Batch:0 | Loss: | Dx: 0.9620531797409058 Dy: 0.29590097069740295 | G: 4.013720512390137 F: 2.2758629322052\n",
      "Saving checkpoint for epoch 13 at ./checkpoints/sample\\ckpt-13\n",
      "Time taken for epoch 13 of totoal epoch 30 is 0:01:31.965073\n",
      "\n",
      "epoch 14/30\n",
      "Batch:0 | Loss: | Dx: 0.14778397977352142 Dy: 0.2421516627073288 | G: 4.427818298339844 F: 4.0970563888549805\n",
      "Saving checkpoint for epoch 14 at ./checkpoints/sample\\ckpt-14\n",
      "Time taken for epoch 14 of totoal epoch 30 is 0:01:31.758627\n",
      "\n",
      "epoch 15/30\n",
      "Batch:0 | Loss: | Dx: 0.2052457183599472 Dy: 0.2700726389884949 | G: 4.301420211791992 F: 3.778780698776245\n",
      "Saving checkpoint for epoch 15 at ./checkpoints/sample\\ckpt-15\n",
      "Time taken for epoch 15 of totoal epoch 30 is 0:01:31.452444\n",
      "\n",
      "epoch 16/30\n",
      "Batch:0 | Loss: | Dx: 0.2196163386106491 Dy: 0.4880199730396271 | G: 2.782364845275879 F: 3.915195941925049\n",
      "Saving checkpoint for epoch 16 at ./checkpoints/sample\\ckpt-16\n",
      "Time taken for epoch 16 of totoal epoch 30 is 0:01:31.615008\n",
      "\n",
      "epoch 17/30\n",
      "Batch:0 | Loss: | Dx: 0.10895288735628128 Dy: 0.3260926902294159 | G: 3.3175435066223145 F: 4.714484214782715\n",
      "Saving checkpoint for epoch 17 at ./checkpoints/sample\\ckpt-17\n",
      "Time taken for epoch 17 of totoal epoch 30 is 0:01:31.763612\n",
      "\n",
      "epoch 18/30\n",
      "Batch:0 | Loss: | Dx: 0.5244891047477722 Dy: 0.4497820734977722 | G: 2.9596173763275146 F: 2.7340965270996094\n",
      "Saving checkpoint for epoch 18 at ./checkpoints/sample\\ckpt-18\n",
      "Time taken for epoch 18 of totoal epoch 30 is 0:01:31.877321\n",
      "\n",
      "epoch 19/30\n",
      "Batch:0 | Loss: | Dx: 0.3901526927947998 Dy: 0.2642686367034912 | G: 3.8346993923187256 F: 3.1486079692840576\n",
      "Saving checkpoint for epoch 19 at ./checkpoints/sample\\ckpt-19\n",
      "Time taken for epoch 19 of totoal epoch 30 is 0:01:31.654887\n",
      "\n",
      "epoch 20/30\n",
      "Batch:0 | Loss: | Dx: 0.26691383123397827 Dy: 0.3589026629924774 | G: 3.6184449195861816 F: 3.632188558578491\n",
      "Saving checkpoint for epoch 20 at ./checkpoints/sample\\ckpt-20\n",
      "Time taken for epoch 20 of totoal epoch 30 is 0:01:31.992998\n",
      "\n",
      "epoch 21/30\n",
      "Batch:0 | Loss: | Dx: 0.15984869003295898 Dy: 0.452019065618515 | G: 5.000225067138672 F: 3.906696319580078\n",
      "Saving checkpoint for epoch 21 at ./checkpoints/sample\\ckpt-21\n",
      "Time taken for epoch 21 of totoal epoch 30 is 0:01:31.862460\n",
      "\n",
      "epoch 22/30\n",
      "Batch:0 | Loss: | Dx: 0.14345258474349976 Dy: 0.3102779686450958 | G: 3.3222763538360596 F: 4.373627185821533\n",
      "Saving checkpoint for epoch 22 at ./checkpoints/sample\\ckpt-22\n",
      "Time taken for epoch 22 of totoal epoch 30 is 0:01:31.898142\n",
      "\n",
      "epoch 23/30\n",
      "Batch:0 | Loss: | Dx: 0.32260701060295105 Dy: 0.24139155447483063 | G: 3.62255859375 F: 3.2367944717407227\n",
      "Saving checkpoint for epoch 23 at ./checkpoints/sample\\ckpt-23\n",
      "Time taken for epoch 23 of totoal epoch 30 is 0:01:31.906227\n",
      "\n",
      "epoch 24/30\n",
      "Batch:0 | Loss: | Dx: 0.33887970447540283 Dy: 0.2654620110988617 | G: 3.552198886871338 F: 4.265786647796631\n",
      "Saving checkpoint for epoch 24 at ./checkpoints/sample\\ckpt-24\n",
      "Time taken for epoch 24 of totoal epoch 30 is 0:01:31.770593\n",
      "\n",
      "epoch 25/30\n",
      "Batch:0 | Loss: | Dx: 0.4126012325286865 Dy: 0.41063177585601807 | G: 3.413870334625244 F: 2.919762134552002\n",
      "Saving checkpoint for epoch 25 at ./checkpoints/sample\\ckpt-25\n",
      "Time taken for epoch 25 of totoal epoch 30 is 0:01:31.903238\n",
      "\n",
      "epoch 26/30\n",
      "Batch:0 | Loss: | Dx: 0.23301969468593597 Dy: 0.33841806650161743 | G: 3.1202757358551025 F: 3.9063076972961426\n",
      "Saving checkpoint for epoch 26 at ./checkpoints/sample\\ckpt-26\n",
      "Time taken for epoch 26 of totoal epoch 30 is 0:01:31.660903\n",
      "\n",
      "epoch 27/30\n",
      "Batch:0 | Loss: | Dx: 0.37204840779304504 Dy: 0.32922783493995667 | G: 4.770797252655029 F: 4.7356977462768555\n",
      "Saving checkpoint for epoch 27 at ./checkpoints/sample\\ckpt-27\n",
      "Time taken for epoch 27 of totoal epoch 30 is 0:01:31.677828\n",
      "\n",
      "epoch 28/30\n",
      "Batch:0 | Loss: | Dx: 0.33542245626449585 Dy: 0.36297523975372314 | G: 4.440173625946045 F: 3.7720954418182373\n",
      "Saving checkpoint for epoch 28 at ./checkpoints/sample\\ckpt-28\n",
      "Time taken for epoch 28 of totoal epoch 30 is 0:01:31.693821\n",
      "\n",
      "epoch 29/30\n",
      "Batch:0 | Loss: | Dx: 0.2211877405643463 Dy: 0.25104838609695435 | G: 3.809201717376709 F: 3.807023525238037\n",
      "Saving checkpoint for epoch 29 at ./checkpoints/sample\\ckpt-29\n",
      "Time taken for epoch 29 of totoal epoch 30 is 0:01:31.795601\n",
      "\n",
      "epoch 30/30\n",
      "Batch:0 | Loss: | Dx: 0.3935951590538025 Dy: 0.33133405447006226 | G: 3.3248448371887207 F: 3.0964298248291016\n",
      "Saving checkpoint for epoch 30 at ./checkpoints/sample\\ckpt-30\n",
      "Time taken for epoch 30 of totoal epoch 30 is 0:01:31.792581\n",
      "\n"
     ]
    }
   ],
   "source": [
    "datasetX, datasetY = dl.train_data()\n",
    "model.train(30, datasetX, datasetY, 8, 10000)"
   ]
  },
  {
   "cell_type": "markdown",
   "metadata": {},
   "source": [
    "## Evaluate"
   ]
  },
  {
   "cell_type": "code",
   "execution_count": 3,
   "metadata": {},
   "outputs": [
    {
     "name": "stdout",
     "output_type": "stream",
     "text": [
      "14.504527710688244 0.5877174350159465\n"
     ]
    }
   ],
   "source": [
    "def evaluate(model, datasetX, datasetY, batch_size):\n",
    "\n",
    "    psnr_list, ssim_list = [], []\n",
    "    \n",
    "    for image_x, image_y in tf.data.Dataset.zip((datasetX, datasetY)).batch(batch_size):\n",
    "        fake_y = model.predict(image_x)\n",
    "        for i in range(image_y.shape[0]):\n",
    "            psnr_list.append(compare_psnr(image_y.numpy()[i], fake_y[i], data_range=1))\n",
    "            ssim_list.append(compare_ssim(image_y.numpy()[i], fake_y[i], 3))\n",
    "\n",
    "    return psnr_list, ssim_list\n",
    "\n",
    "datasetX, datasetY = dl.test_data()\n",
    "psnr_list, ssim_list = evaluate(model.generator_f, datasetX, datasetY, 8)\n",
    "\n",
    "print(np.mean(psnr_list), np.mean(ssim_list))"
   ]
  },
  {
   "cell_type": "code",
   "execution_count": null,
   "metadata": {},
   "outputs": [],
   "source": []
  }
 ],
 "metadata": {
  "kernelspec": {
   "display_name": "Python [conda env:kaggle]",
   "language": "python",
   "name": "conda-env-kaggle-py"
  },
  "language_info": {
   "codemirror_mode": {
    "name": "ipython",
    "version": 3
   },
   "file_extension": ".py",
   "mimetype": "text/x-python",
   "name": "python",
   "nbconvert_exporter": "python",
   "pygments_lexer": "ipython3",
   "version": "3.6.7"
  }
 },
 "nbformat": 4,
 "nbformat_minor": 2
}
