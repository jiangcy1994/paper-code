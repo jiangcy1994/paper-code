{
 "cells": [
  {
   "cell_type": "markdown",
   "metadata": {},
   "source": [
    "# Cycle GAN"
   ]
  },
  {
   "cell_type": "markdown",
   "metadata": {},
   "source": [
    "## Build Model"
   ]
  },
  {
   "cell_type": "code",
   "execution_count": 1,
   "metadata": {},
   "outputs": [
    {
     "name": "stdout",
     "output_type": "stream",
     "text": [
      "Latest checkpoint restored!!\n"
     ]
    }
   ],
   "source": [
    "import sys\n",
    "sys.path.append('../')\n",
    "\n",
    "from cycle_gan import CycleGAN\n",
    "from data_loader.reside_data_loader import RESIDEOTSDataLoader as DataLoader\n",
    "import numpy as np\n",
    "from skimage.measure import compare_psnr, compare_ssim\n",
    "import tensorflow as tf\n",
    "\n",
    "model = CycleGAN()\n",
    "dl = DataLoader()"
   ]
  },
  {
   "cell_type": "markdown",
   "metadata": {},
   "source": [
    "## Train Model"
   ]
  },
  {
   "cell_type": "code",
   "execution_count": null,
   "metadata": {},
   "outputs": [
    {
     "name": "stdout",
     "output_type": "stream",
     "text": [
      "epoch 1/5\n",
      "Batch:0 | Loss: | Dx: 1.0517255067825317 Dy: 0.6584433317184448 | G: 1.8853931427001953 F: 3.093738555908203\n",
      "Batch:10000 | Loss: | Dx: 0.6336498260498047 Dy: 0.6586577892303467 | G: 1.6851164102554321 F: 1.9689327478408813\n",
      "Batch:20000 | Loss: | Dx: 0.6600989103317261 Dy: 0.71501225233078 | G: 1.5441391468048096 F: 1.478947401046753\n",
      "Batch:30000 | Loss: | Dx: 0.5968141555786133 Dy: 0.6622425317764282 | G: 1.5417227745056152 F: 1.4998891353607178\n",
      "Saving checkpoint for epoch 1 at ./checkpoints/train\\ckpt-2\n",
      "Time taken for epoch 1 of totoal epoch 5 is 8:04:39.557633\n",
      "\n",
      "epoch 2/5\n",
      "Batch:0 | Loss: | Dx: 0.7569469809532166 Dy: 0.6393042802810669 | G: 1.4344189167022705 F: 1.7438932657241821\n"
     ]
    }
   ],
   "source": [
    "datasetX, datasetY = dl.train_data()\n",
    "model.train(5, datasetX, datasetY, 8, 10000)"
   ]
  },
  {
   "cell_type": "markdown",
   "metadata": {},
   "source": [
    "$X \\to Y$"
   ]
  },
  {
   "cell_type": "code",
   "execution_count": null,
   "metadata": {},
   "outputs": [],
   "source": [
    "model.generator_g.predict()"
   ]
  },
  {
   "cell_type": "markdown",
   "metadata": {},
   "source": [
    "$Y \\to X$"
   ]
  },
  {
   "cell_type": "code",
   "execution_count": null,
   "metadata": {},
   "outputs": [],
   "source": [
    "model.generator_f.predict()"
   ]
  },
  {
   "cell_type": "markdown",
   "metadata": {},
   "source": [
    "## Evaluate"
   ]
  },
  {
   "cell_type": "code",
   "execution_count": null,
   "metadata": {},
   "outputs": [],
   "source": [
    "def evaluate(model, datasetX, datasetY, batch_size):\n",
    "\n",
    "    psnr_list, ssim_list = [], []\n",
    "    \n",
    "    for image_x, image_y in tf.data.Dataset.zip((datasetX, datasetY)).batch(batch_size):\n",
    "        fake_y = model.predict(image_x)\n",
    "        for i in range(batch_size):\n",
    "            psnr_list.append(compare_psnr(image_y.numpy()[i], fake_y[i], data_range=1))\n",
    "            ssim_list.append(compare_ssim(image_y.numpy()[i], fake_y[i], 3))\n",
    "\n",
    "    return psnr_list, ssim_list\n",
    "\n",
    "datasetX, datasetY = dl.test_data()\n",
    "psnr_list, ssim_list = evaluate(model.generator_f datasetX, datasetY, 8)\n",
    "\n",
    "print(np.mean(psnr_list), np.mean(ssim_list)"
   ]
  }
 ],
 "metadata": {
  "kernelspec": {
   "display_name": "Python [conda env:kaggle]",
   "language": "python",
   "name": "conda-env-kaggle-py"
  },
  "language_info": {
   "codemirror_mode": {
    "name": "ipython",
    "version": 3
   },
   "file_extension": ".py",
   "mimetype": "text/x-python",
   "name": "python",
   "nbconvert_exporter": "python",
   "pygments_lexer": "ipython3",
   "version": "3.6.7"
  }
 },
 "nbformat": 4,
 "nbformat_minor": 2
}
