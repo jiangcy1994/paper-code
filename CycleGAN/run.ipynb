{
 "cells": [
  {
   "cell_type": "markdown",
   "metadata": {},
   "source": [
    "# Cycle GAN"
   ]
  },
  {
   "cell_type": "markdown",
   "metadata": {},
   "source": [
    "## Build Model"
   ]
  },
  {
   "cell_type": "code",
   "execution_count": null,
   "metadata": {},
   "outputs": [],
   "source": [
    "import sys\n",
    "sys.path.append('../')\n",
    "\n",
    "from cycle_gan import CycleGAN\n",
    "from data_loader.reside_data_loader import RESIDEOTSDataLoader as DataLoader\n",
    "import numpy as np\n",
    "from skimage.measure import compare_psnr, compare_ssim\n",
    "import tensorflow as tf\n",
    "\n",
    "model = CycleGAN()\n",
    "dl = DataLoader()"
   ]
  },
  {
   "cell_type": "markdown",
   "metadata": {},
   "source": [
    "## Train Model"
   ]
  },
  {
   "cell_type": "code",
   "execution_count": null,
   "metadata": {},
   "outputs": [],
   "source": [
    "datasetX, datasetY = dl.train_data()\n",
    "model.train(5, datasetX, datasetY, 8, 10000)"
   ]
  },
  {
   "cell_type": "markdown",
   "metadata": {},
   "source": [
    "## Evaluate"
   ]
  },
  {
   "cell_type": "code",
   "execution_count": null,
   "metadata": {},
   "outputs": [],
   "source": [
    "def evaluate(model, datasetX, datasetY, batch_size):\n",
    "\n",
    "    psnr_list, ssim_list = [], []\n",
    "    \n",
    "    for image_x, image_y in tf.data.Dataset.zip((datasetX, datasetY)).batch(batch_size):\n",
    "        fake_y = model.predict(image_x)\n",
    "        for i in range(image_y.shape[0]):\n",
    "            psnr_list.append(compare_psnr(image_y.numpy()[i], fake_y[i], data_range=1))\n",
    "            ssim_list.append(compare_ssim(image_y.numpy()[i], fake_y[i], 3))\n",
    "\n",
    "    return psnr_list, ssim_list\n",
    "\n",
    "datasetX, datasetY = dl.test_data()\n",
    "psnr_list, ssim_list = evaluate(model.generator_f, datasetX, datasetY, 8)\n",
    "\n",
    "print(np.mean(psnr_list), np.mean(ssim_list))"
   ]
  },
  {
   "cell_type": "code",
   "execution_count": null,
   "metadata": {},
   "outputs": [],
   "source": []
  }
 ],
 "metadata": {
  "kernelspec": {
   "display_name": "Python [conda env:kaggle]",
   "language": "python",
   "name": "conda-env-kaggle-py"
  },
  "language_info": {
   "codemirror_mode": {
    "name": "ipython",
    "version": 3
   },
   "file_extension": ".py",
   "mimetype": "text/x-python",
   "name": "python",
   "nbconvert_exporter": "python",
   "pygments_lexer": "ipython3",
   "version": "3.6.7"
  }
 },
 "nbformat": 4,
 "nbformat_minor": 2
}
