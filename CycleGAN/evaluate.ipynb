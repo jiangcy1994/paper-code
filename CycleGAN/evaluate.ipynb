{
 "cells": [
  {
   "cell_type": "code",
   "execution_count": 11,
   "metadata": {},
   "outputs": [],
   "source": [
    "import sys\n",
    "sys.path.append('../')\n",
    "\n",
    "from cycle_gan import CycleGAN\n",
    "from data_loader.reside_data_loader import RESIDEOTSDataLoader as DataLoader\n",
    "import numpy as np\n",
    "from skimage.measure import compare_psnr, compare_ssim\n",
    "\n",
    "batch_size = 32\n",
    "ssim = []\n",
    "psnr = []\n",
    "\n",
    "model = CycleGAN()\n",
    "model.generator_A_to_B.load_weights('generator_A_to_B')\n",
    "dl = DataLoader(img_res=(128,128))\n",
    "\n",
    "for batch_i, (imgs_A, imgs_B) in enumerate(dl.load_batch(batch_size, is_testing=True)):\n",
    "\n",
    "    fake_B = self.generator_A_to_B.predict_on_batch(imgs_A)\n",
    "    for each_real_B, each_fake_B in zip(imgs_B, fake_B):\n",
    "        psnr.append(compare_psnr(each_real_B, each_fake_B, data_range=1))\n",
    "        ssim.append(compare_ssim(each_real_B, each_fake_B, d3))\n",
    "    \n",
    "    print('[Batch %d/%d] [PSNR %f] [SSIM %f]' \n",
    "          % (\n",
    "              batch_i, dl.n_batches,\n",
    "              np.mean(psnr),\n",
    "              np.mean(ssim)\n",
    "          ))\n",
    "\n",
    "np.save('ssim', np.array(ssim))\n",
    "np.save('psnr', np.array(psnr))"
   ]
  }
 ],
 "metadata": {
  "kernelspec": {
   "display_name": "Python [conda env:kaggle]",
   "language": "python",
   "name": "conda-env-kaggle-py"
  },
  "language_info": {
   "codemirror_mode": {
    "name": "ipython",
    "version": 3
   },
   "file_extension": ".py",
   "mimetype": "text/x-python",
   "name": "python",
   "nbconvert_exporter": "python",
   "pygments_lexer": "ipython3",
   "version": "3.5.5"
  }
 },
 "nbformat": 4,
 "nbformat_minor": 2
}
