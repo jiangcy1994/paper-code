{
 "cells": [
  {
   "cell_type": "markdown",
   "metadata": {},
   "source": [
    "# Uncomplete"
   ]
  },
  {
   "cell_type": "code",
   "execution_count": null,
   "metadata": {},
   "outputs": [],
   "source": []
  },
  {
   "cell_type": "code",
   "execution_count": 4,
   "metadata": {},
   "outputs": [],
   "source": [
    "from keras.layers import Subtract\n",
    "from keras.models import Model\n",
    "\n",
    "from utils import *"
   ]
  },
  {
   "cell_type": "code",
   "execution_count": null,
   "metadata": {},
   "outputs": [],
   "source": [
    "VGG19ca"
   ]
  },
  {
   "cell_type": "code",
   "execution_count": null,
   "metadata": {},
   "outputs": [],
   "source": [
    "Model.compile()"
   ]
  },
  {
   "cell_type": "code",
   "execution_count": 3,
   "metadata": {},
   "outputs": [],
   "source": [
    "class DIDMDN:\n",
    "    \n",
    "    def __init__(self, img_shape=(128, 128, 3), g_filter=32, d_filter=64, lamdba_cycle=10.0, lambda_id=1.0):\n",
    "        # Input shape\n",
    "        self.img_rows, self.img_cols, self.channels = self.img_shape = img_shape\n",
    "\n",
    "        # Calculate output shape of D (PatchGAN)\n",
    "#         patch = int(self.img_rows / 2**4)\n",
    "        patch = int(self.img_rows / 2**3)\n",
    "        self.disc_patch = (patch, patch, 1)\n",
    "\n",
    "        # Number of filters in the first layer of G and D\n",
    "        self.generator_filter, self.discriminator_filter = 32, 64\n",
    "\n",
    "        # Loss weights\n",
    "        self.lambda_cycle, self.lambda_id = lamdba_cycle, lambda_id\n",
    "\n",
    "#         optimizer = Adam(0.0002, 0.5)\n",
    "\n",
    "        # Build and compile the discriminators\n",
    "    \n",
    "        self.residue_net = Dense_rain_residual()\n",
    "        self.residue_net.name = 'dense_rain_residual'\n",
    "        self.vgg19_ca = VGG19ca()\n",
    "        self.vgg19_ca.name = 'vgg19_ca'\n",
    "        img_input = Input(shape=self.img_shape, name='input_img')\n",
    "        label_input = Input(shape=self.img_shape, name='input_label')\n",
    "        \n",
    "        ### Using the Heavy rain Label (0) to get the residual ##\n",
    "        output = self.residue_net(img_input, label_input)\n",
    "        residue = Subtract()([img_input, output])\n",
    "        label = self.vgg19_ca(residue)\n",
    "        self.discriminator = Model(inputs=[img_input, label_input], outputs=[label])\n",
    "        self.discriminator.compile(loss='binary_crossentropy', optimizer='rmsprop', metrics=['accuracy'])\n",
    "        \n",
    "\n",
    "        ### Using the estimated resiudal to predict the label ##\n",
    "\n",
    "        label = netG(residue)\n",
    "\n",
    "        \n",
    "        \n",
    "        \n",
    "        self.discriminator_A.compile(loss='mse', optimizer='rmsprop', metrics=['accuracy'])\n",
    "        self.discriminator_B = self.build_discriminator()\n",
    "        self.discriminator_B.name = 'discriminator_B'\n",
    "        self.discriminator_B.compile(loss='mse', optimizer='rmsprop', metrics=['accuracy'])\n",
    "\n",
    "        #-------------------------\n",
    "        # Construct Computational\n",
    "        #   Graph of Generators\n",
    "        #-------------------------\n",
    "\n",
    "        # Build the generators\n",
    "        \n",
    "        self.dense_net = Dense_rain()\n",
    "        self.dense_net.name = 'dense_rain'\n",
    "        \n",
    "        \n",
    "        self.generator_A_to_B = self.build_generator()\n",
    "        self.generator_A_to_B.name = 'generator_A_to_B'\n",
    "        self.generator_B_to_A = self.build_generator()\n",
    "        self.generator_B_to_A.name = 'generator_B_to_A'\n",
    "\n",
    "        # Input images from both domains\n",
    "        img_A = Input(shape=self.img_shape, name='input_A')\n",
    "        img_B = Input(shape=self.img_shape, name='input_B')\n",
    "\n",
    "        # Translate images to the other domain\n",
    "        fake_B = self.generator_A_to_B(img_A)\n",
    "        fake_A = self.generator_B_to_A(img_B)\n",
    "        # Translate images back to original domain\n",
    "        reconstr_A = self.generator_B_to_A(fake_B)\n",
    "        reconstr_B = self.generator_A_to_B(fake_A)\n",
    "        # Identity mapping of images\n",
    "        img_A_id = self.generator_B_to_A(img_A)\n",
    "        img_B_id = self.generator_A_to_B(img_B)\n",
    "\n",
    "        # For the combined model we will only train the generators\n",
    "        self.discriminator_A.trainable = False\n",
    "        self.discriminator_B.trainable = False\n",
    "\n",
    "        # Discriminators determines validity of translated images\n",
    "        valid_A = self.discriminator_A(fake_A)\n",
    "        valid_B = self.discriminator_B(fake_B)\n",
    "\n",
    "        # Combined model trains generators to fool discriminators\n",
    "        self.combined = Model(inputs=[img_A, img_B],\n",
    "                              outputs=[valid_A, valid_B,\n",
    "                                       reconstr_A, reconstr_B,\n",
    "                                       img_A_id, img_B_id ])\n",
    "        self.combined.compile(loss=['mse', 'mse',\n",
    "                                    'mae', 'mae',\n",
    "                                    'mae', 'mae'],\n",
    "                            loss_weights=[1, 1,\n",
    "                                          self.lambda_cycle, self.lambda_cycle,\n",
    "                                          self.lambda_id, self.lambda_id ],\n",
    "                            optimizer='rmsprop')\n",
    "    pass"
   ]
  },
  {
   "cell_type": "code",
   "execution_count": null,
   "metadata": {},
   "outputs": [],
   "source": []
  },
  {
   "cell_type": "code",
   "execution_count": null,
   "metadata": {},
   "outputs": [],
   "source": []
  }
 ],
 "metadata": {
  "kernelspec": {
   "display_name": "Python [conda env:kaggle]",
   "language": "python",
   "name": "conda-env-kaggle-py"
  },
  "language_info": {
   "codemirror_mode": {
    "name": "ipython",
    "version": 3
   },
   "file_extension": ".py",
   "mimetype": "text/x-python",
   "name": "python",
   "nbconvert_exporter": "python",
   "pygments_lexer": "ipython3",
   "version": "3.5.5"
  }
 },
 "nbformat": 4,
 "nbformat_minor": 2
}
