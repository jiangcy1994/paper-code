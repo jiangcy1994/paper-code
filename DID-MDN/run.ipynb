{
 "cells": [
  {
   "cell_type": "markdown",
   "metadata": {},
   "source": [
    "# Training (Density-aware Deraining network using GT label)"
   ]
  },
  {
   "cell_type": "code",
   "execution_count": null,
   "metadata": {},
   "outputs": [],
   "source": [
    "import sys\n",
    "sys.path.append('../')\n",
    "\n",
    "import datetime\n",
    "from data_loader.didmdn_data_loader import DIDMDNDataLoader as DataLoader\n",
    "import DIDMDN\n",
    "import numpy as np\n",
    "from skimage.measure import compare_psnr, compare_ssim\n",
    "import tensorflow as tf\n",
    "\n",
    "model = DIDMDN.Derain()\n",
    "dl = DataLoader(img_res=(512,512))"
   ]
  },
  {
   "cell_type": "code",
   "execution_count": null,
   "metadata": {},
   "outputs": [],
   "source": [
    "dataset_image, dataset_label, dataset_target = dl.train_data()\n",
    "model.train(5, dataset_image, dataset_label, dataset_target, 8, 10000)"
   ]
  },
  {
   "cell_type": "code",
   "execution_count": null,
   "metadata": {},
   "outputs": [],
   "source": [
    "def evaluate(model, dataset_image, dataset_label, dataset_target, batch_size):\n",
    "\n",
    "    psnr_list, ssim_list = [], []\n",
    "    \n",
    "    for image_x, image_y in tf.data.Dataset.zip((dataset_image, dataset_label, dataset_target)).batch(batch_size):\n",
    "        fake_y = model.predict(image_x)\n",
    "        for i in range(image_y.shape[0]):\n",
    "            psnr_list.append(compare_psnr(image_y.numpy()[i], fake_y[i], data_range=1))\n",
    "            ssim_list.append(compare_ssim(image_y.numpy()[i], fake_y[i], 3))\n",
    "\n",
    "    return psnr_list, ssim_list\n",
    "\n",
    "dataset_image, dataset_label, dataset_target = dl.test_data()\n",
    "psnr_list, ssim_list = evaluate(model.generator, dataset_image, dataset_label, dataset_target, 8)\n",
    "\n",
    "print(np.mean(psnr_list), np.mean(ssim_list)"
   ]
  },
  {
   "cell_type": "markdown",
   "metadata": {},
   "source": [
    "# Density-estimation Training (rain-density classifier)"
   ]
  },
  {
   "cell_type": "code",
   "execution_count": null,
   "metadata": {},
   "outputs": [],
   "source": [
    "import sys\n",
    "sys.path.append('../')\n",
    "\n",
    "import datetime\n",
    "from data_loader.didmdn_data_loader import DIDMDNDataLoader as DataLoader\n",
    "import DIDMDN\n",
    "import numpy as np\n",
    "from skimage.measure import compare_psnr, compare_ssim\n",
    "import tensorflow as tf\n",
    "\n",
    "model = DIDMDN.RainClass()\n",
    "dl = DataLoader(img_res=(512,512))"
   ]
  },
  {
   "cell_type": "code",
   "execution_count": null,
   "metadata": {},
   "outputs": [],
   "source": [
    "dataset_image, dataset_label, dataset_target = dl.train_data()\n",
    "model.train(5, dataset_image, dataset_label, dataset_target, 8, 10000)"
   ]
  }
 ],
 "metadata": {
  "kernelspec": {
   "display_name": "Python [conda env:kaggle]",
   "language": "python",
   "name": "conda-env-kaggle-py"
  },
  "language_info": {
   "codemirror_mode": {
    "name": "ipython",
    "version": 3
   },
   "file_extension": ".py",
   "mimetype": "text/x-python",
   "name": "python",
   "nbconvert_exporter": "python",
   "pygments_lexer": "ipython3",
   "version": "3.6.7"
  }
 },
 "nbformat": 4,
 "nbformat_minor": 2
}
