{
 "cells": [
  {
   "cell_type": "code",
   "execution_count": 1,
   "metadata": {},
   "outputs": [
    {
     "name": "stderr",
     "output_type": "stream",
     "text": [
      "Using TensorFlow backend.\n"
     ]
    }
   ],
   "source": [
    "import datetime\n",
    "import sys\n",
    "sys.path.append('../')\n",
    "\n",
    "import DIDMDN"
   ]
  },
  {
   "cell_type": "markdown",
   "metadata": {},
   "source": [
    "# Training (Density-aware Deraining network using GT label)"
   ]
  },
  {
   "cell_type": "code",
   "execution_count": null,
   "metadata": {},
   "outputs": [
    {
     "name": "stdout",
     "output_type": "stream",
     "text": [
      "[Epoch 0/20] [Batch 0/12000] [loss: 111.957024, l1: 71.828590, features: (0.503237, 10.616754)] time: 0:00:30.282009 \n"
     ]
    }
   ],
   "source": [
    "from data_loader.didmdn_data_loader import DIDMDNDataLoader as DataLoader\n",
    "\n",
    "model = DIDMDN.Derain()\n",
    "dl = DataLoader(img_res=(512,512))\n",
    "\n",
    "model.train(dl, 20, 1)\n",
    "model.save_model()"
   ]
  },
  {
   "cell_type": "markdown",
   "metadata": {},
   "source": [
    "# Density-estimation Training (rain-density classifier)"
   ]
  },
  {
   "cell_type": "code",
   "execution_count": null,
   "metadata": {},
   "outputs": [
    {
     "name": "stdout",
     "output_type": "stream",
     "text": [
      "[Epoch 0/20] [Batch 0/12000] [loss: 14.008945, l_Er: 7.004472, l_C:0.484083] time: 0:00:15.879500 \n"
     ]
    }
   ],
   "source": [
    "from data_loader.didmdn_data_loader import DIDMDNDataLoader as DataLoader\n",
    "\n",
    "model = DIDMDN.RainClass()\n",
    "dl = DataLoader(img_res=(512,512))\n",
    "\n",
    "model.train(dl, 20, 1)\n",
    "model.save_model()"
   ]
  }
 ],
 "metadata": {
  "kernelspec": {
   "display_name": "Python [conda env:kaggle]",
   "language": "python",
   "name": "conda-env-kaggle-py"
  },
  "language_info": {
   "codemirror_mode": {
    "name": "ipython",
    "version": 3
   },
   "file_extension": ".py",
   "mimetype": "text/x-python",
   "name": "python",
   "nbconvert_exporter": "python",
   "pygments_lexer": "ipython3",
   "version": "3.5.5"
  }
 },
 "nbformat": 4,
 "nbformat_minor": 2
}
