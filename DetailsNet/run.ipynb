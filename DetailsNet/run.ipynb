{
 "cells": [
  {
   "cell_type": "markdown",
   "metadata": {},
   "source": [
    "# Details Net"
   ]
  },
  {
   "cell_type": "markdown",
   "metadata": {},
   "source": [
    "## Build Model"
   ]
  },
  {
   "cell_type": "code",
   "execution_count": null,
   "metadata": {},
   "outputs": [],
   "source": [
    "import sys\n",
    "sys.path.append('../')\n",
    "\n",
    "from details_net import DetailsNet\n",
    "from data_loader.rainy_image_data_loader import RainyImageDataLoader as DataLoader\n",
    "import numpy as np\n",
    "from skimage.measure import compare_psnr, compare_ssim\n",
    "import tensorflow as tf\n",
    "\n",
    "model = DetailNet()\n",
    "dl = DataLoader(img_res=(512,512))"
   ]
  },
  {
   "cell_type": "markdown",
   "metadata": {},
   "source": [
    "## Train Model"
   ]
  },
  {
   "cell_type": "code",
   "execution_count": null,
   "metadata": {},
   "outputs": [],
   "source": [
    "data_image, data_target = dl.train_data()\n",
    "model.train(5, data_image, data_target, 8, 10000)"
   ]
  },
  {
   "cell_type": "markdown",
   "metadata": {},
   "source": [
    "## Evaluate"
   ]
  },
  {
   "cell_type": "code",
   "execution_count": null,
   "metadata": {},
   "outputs": [],
   "source": [
    "def evaluate(model, data_image, data_target, batch_size):\n",
    "\n",
    "    psnr_list, ssim_list = [], []\n",
    "    \n",
    "    for image, target in tf.data.Dataset.zip((data_image, data_target)).batch(batch_size):\n",
    "        detail = model.cal_detail(image)\n",
    "        fake_target = model.generator.predict([image, detail])\n",
    "        for i in range(image_y.shape[0]):\n",
    "            psnr_list.append(compare_psnr(target.numpy()[i], fake_target[i], data_range=1))\n",
    "            ssim_list.append(compare_ssim(target.numpy()[i], fake_target[i], 3))\n",
    "\n",
    "    return psnr_list, ssim_list\n",
    "\n",
    "data_image, data_target = dl.test_data()\n",
    "psnr_list, ssim_list = evaluate(model, data_image, data_target, 8)\n",
    "\n",
    "print(np.mean(psnr_list), np.mean(ssim_list)"
   ]
  }
 ],
 "metadata": {
  "kernelspec": {
   "display_name": "Python [conda env:kaggle]",
   "language": "python",
   "name": "conda-env-kaggle-py"
  },
  "language_info": {
   "codemirror_mode": {
    "name": "ipython",
    "version": 3
   },
   "file_extension": ".py",
   "mimetype": "text/x-python",
   "name": "python",
   "nbconvert_exporter": "python",
   "pygments_lexer": "ipython3",
   "version": "3.6.7"
  }
 },
 "nbformat": 4,
 "nbformat_minor": 2
}
