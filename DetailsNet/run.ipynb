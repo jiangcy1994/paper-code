{
 "cells": [
  {
   "cell_type": "code",
   "execution_count": 1,
   "metadata": {},
   "outputs": [
    {
     "name": "stderr",
     "output_type": "stream",
     "text": [
      "Using TensorFlow backend.\n"
     ]
    }
   ],
   "source": [
    "import datetime\n",
    "import sys\n",
    "sys.path.append('../')\n",
    "\n",
    "from DetailNet import DetailNet"
   ]
  },
  {
   "cell_type": "markdown",
   "metadata": {},
   "source": [
    "# Training"
   ]
  },
  {
   "cell_type": "code",
   "execution_count": null,
   "metadata": {},
   "outputs": [],
   "source": [
    "from data_loader.rainy_image_data_loader import RainyImageDataLoader as DataLoader\n",
    "\n",
    "model = DetailNet()\n",
    "dl = DataLoader(img_res=(512,512))"
   ]
  },
  {
   "cell_type": "code",
   "execution_count": null,
   "metadata": {},
   "outputs": [
    {
     "name": "stdout",
     "output_type": "stream",
     "text": [
      "[Epoch 0/20] [Batch 0/1575] [loss: 1.031113] time: 0:00:17.090283 \n",
      "[Epoch 0/20] [Batch 1/1575] [loss: 1.002846] time: 0:00:30.114467 \n",
      "[Epoch 0/20] [Batch 2/1575] [loss: 0.977849] time: 0:00:43.549575 \n",
      "[Epoch 0/20] [Batch 3/1575] [loss: 0.961091] time: 0:00:56.883905 \n",
      "[Epoch 0/20] [Batch 4/1575] [loss: 0.948307] time: 0:01:11.033112 \n",
      "[Epoch 0/20] [Batch 5/1575] [loss: 0.951746] time: 0:01:25.234144 \n",
      "[Epoch 0/20] [Batch 6/1575] [loss: 0.949416] time: 0:01:41.096711 \n",
      "[Epoch 0/20] [Batch 7/1575] [loss: 0.938006] time: 0:01:56.514497 \n",
      "[Epoch 0/20] [Batch 8/1575] [loss: 0.915572] time: 0:02:12.169668 \n",
      "[Epoch 0/20] [Batch 9/1575] [loss: 0.899623] time: 0:02:27.277260 \n",
      "[Epoch 0/20] [Batch 10/1575] [loss: 0.905374] time: 0:02:43.900850 \n",
      "[Epoch 0/20] [Batch 11/1575] [loss: 0.947418] time: 0:03:01.364135 \n",
      "[Epoch 0/20] [Batch 12/1575] [loss: 0.921452] time: 0:03:21.152259 \n",
      "[Epoch 0/20] [Batch 13/1575] [loss: 0.933580] time: 0:03:42.857255 \n"
     ]
    }
   ],
   "source": [
    "model.train(dl, 20, 8)"
   ]
  },
  {
   "cell_type": "code",
   "execution_count": null,
   "metadata": {},
   "outputs": [],
   "source": [
    "model.network.save_weights('derain_generator')"
   ]
  }
 ],
 "metadata": {
  "kernelspec": {
   "display_name": "Python [conda env:kaggle]",
   "language": "python",
   "name": "conda-env-kaggle-py"
  },
  "language_info": {
   "codemirror_mode": {
    "name": "ipython",
    "version": 3
   },
   "file_extension": ".py",
   "mimetype": "text/x-python",
   "name": "python",
   "nbconvert_exporter": "python",
   "pygments_lexer": "ipython3",
   "version": "3.5.5"
  }
 },
 "nbformat": 4,
 "nbformat_minor": 2
}
